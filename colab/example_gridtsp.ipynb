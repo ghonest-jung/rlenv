{
  "nbformat": 4,
  "nbformat_minor": 0,
  "metadata": {
    "colab": {
      "provenance": [],
      "authorship_tag": "ABX9TyM6sBFulOMMm/taqK/oa6zP"
    },
    "kernelspec": {
      "name": "python3",
      "display_name": "Python 3"
    },
    "language_info": {
      "name": "python"
    }
  },
  "cells": [
    {
      "cell_type": "code",
      "execution_count": 1,
      "metadata": {
        "colab": {
          "base_uri": "https://localhost:8080/"
        },
        "id": "shPVL7rsobv9",
        "outputId": "ca18d512-add2-4ff7-a6df-2bb723a50705"
      },
      "outputs": [
        {
          "output_type": "stream",
          "name": "stdout",
          "text": [
            "Cloning into 'rlenv'...\n",
            "remote: Enumerating objects: 43, done.\u001b[K\n",
            "remote: Counting objects: 100% (43/43), done.\u001b[K\n",
            "remote: Compressing objects: 100% (29/29), done.\u001b[K\n",
            "remote: Total 43 (delta 13), reused 36 (delta 10), pack-reused 0\u001b[K\n",
            "Unpacking objects: 100% (43/43), 8.54 KiB | 795.00 KiB/s, done.\n"
          ]
        }
      ],
      "source": [
        "!git clone https://github.com/ghonest-jung/rlenv.git"
      ]
    },
    {
      "cell_type": "code",
      "source": [
        "import random\n",
        "import copy\n",
        "from tqdm import tqdm\n",
        "\n",
        "from rlenv.gridtsp import GridTSP"
      ],
      "metadata": {
        "id": "d2SGDZHiofQz"
      },
      "execution_count": 2,
      "outputs": []
    },
    {
      "cell_type": "code",
      "source": [
        "class QFunc:\n",
        "    def __init__(self):\n",
        "        self.q_func = dict()\n",
        "        self.actions = [GridTSP.UP, GridTSP.DOWN, GridTSP.LEFT, GridTSP.RIGHT]\n",
        "\n",
        "    def set(self, state, action, value):\n",
        "        key = str(state)\n",
        "        self.q_func[key][action] = value\n",
        "\n",
        "    def add(self, state):\n",
        "        key = str(state)\n",
        "\n",
        "        if key in self.q_func:\n",
        "            return\n",
        "\n",
        "        self.q_func[key] = dict()\n",
        "\n",
        "        for a in self.actions:\n",
        "            self.q_func[key][a] = 0\n",
        "\n",
        "    def get(self, state, action=None):\n",
        "        key = str(state)\n",
        "\n",
        "        if action is None:\n",
        "            return self.q_func[key]\n",
        "\n",
        "        return self.q_func[key][action]\n",
        "\n",
        "    def print(self):\n",
        "        for key in sorted(self.q_func.keys()):\n",
        "            print(key, (self.q_func[key]))"
      ],
      "metadata": {
        "id": "F_b29-dlpCCu"
      },
      "execution_count": 3,
      "outputs": []
    },
    {
      "cell_type": "code",
      "source": [
        "def print_board(board):\n",
        "    for b in board:\n",
        "        print(b)\n",
        "\n",
        "\n",
        "def epsilon_greedy_action(epsilon, q_func, state, env):\n",
        "    key = str(state)\n",
        "\n",
        "    avail_actions = env.sample_action()\n",
        "\n",
        "    if random.random() < 1 - epsilon:\n",
        "        q_avail_actions = dict()\n",
        "        for a in avail_actions:\n",
        "            q_avail_actions[a] = q_func.get(key, a)\n",
        "        action_idx = max(q_avail_actions, key=q_avail_actions.get)\n",
        "    else:\n",
        "        action_idx = random.choice(avail_actions)\n",
        "    return action_idx"
      ],
      "metadata": {
        "id": "hSNIufjnpFot"
      },
      "execution_count": 4,
      "outputs": []
    },
    {
      "cell_type": "code",
      "source": [
        "q_func = QFunc()\n",
        "env = GridTSP(size = (4,4), max_num_tasks = 5, reward_default = -0.01)"
      ],
      "metadata": {
        "id": "QHOBcf6BZ4RO"
      },
      "execution_count": 5,
      "outputs": []
    },
    {
      "cell_type": "code",
      "source": [
        "for episode in tqdm(range(200000)):\n",
        "    env.reset()\n",
        "    epsilon = 0.5 - episode * 0.0 / 200000\n",
        "\n",
        "    state = copy.deepcopy(env.board)\n",
        "    q_func.add(state)\n",
        "    action = epsilon_greedy_action(0.5, q_func, state, env)\n",
        "\n",
        "    while True:\n",
        "        next_state, reward, done, info = env.step(action)\n",
        "        q_func.add(next_state)\n",
        "        next_action = epsilon_greedy_action(0.5, q_func, next_state, env)\n",
        "\n",
        "        value = (1 - 0.1) * q_func.get(state, action) + 0.1 * (reward + 0.9 * q_func.get(next_state, next_action))\n",
        "\n",
        "        q_func.set(state, action, value)\n",
        "\n",
        "        state = copy.deepcopy(next_state)\n",
        "        action = next_action\n",
        "\n",
        "        if done is True:\n",
        "            break\n",
        "\n",
        "# q_func.print()"
      ],
      "metadata": {
        "colab": {
          "base_uri": "https://localhost:8080/"
        },
        "id": "DqvTeAf0pHbo",
        "outputId": "8ff9dd19-4a86-4db5-f2e7-794842f400cb"
      },
      "execution_count": 6,
      "outputs": [
        {
          "output_type": "stream",
          "name": "stderr",
          "text": [
            "100%|██████████| 200000/200000 [01:47<00:00, 1852.79it/s]\n"
          ]
        }
      ]
    },
    {
      "cell_type": "code",
      "source": [
        "env.reset(start = (3, 1), tasks = [(2, 0), (2, 2), (0, 0), (0, 3)])\n",
        "\n",
        "state = copy.deepcopy(env.board)\n",
        "q_func.add(state)\n",
        "action = epsilon_greedy_action(0.0, q_func, state, env)\n",
        "print_board(state)\n",
        "print(action, q_func.get(state))\n",
        "\n",
        "while True:\n",
        "    next_state, reward, done, info = env.step(action)\n",
        "    q_func.add(next_state)\n",
        "    next_action = epsilon_greedy_action(0.0, q_func, next_state, env)\n",
        "    action = next_action\n",
        "\n",
        "    print_board(next_state)\n",
        "    print(next_action, q_func.get(next_state))\n",
        "\n",
        "    if done is True:\n",
        "        break\n"
      ],
      "metadata": {
        "colab": {
          "base_uri": "https://localhost:8080/"
        },
        "id": "Z3WJnYieps2M",
        "outputId": "b1185b82-ed55-45c7-c29e-db75663deff1"
      },
      "execution_count": 7,
      "outputs": [
        {
          "output_type": "stream",
          "name": "stdout",
          "text": [
            "[2, 0, 0, 2]\n",
            "[0, 0, 0, 0]\n",
            "[2, 0, 2, 0]\n",
            "[0, 1, 0, 0]\n",
            "0 {0: 0.008777314576344708, 1: 0, 2: -0.001, 3: -0.001179829}\n",
            "[2, 0, 0, 2]\n",
            "[0, 0, 0, 0]\n",
            "[2, 1, 2, 0]\n",
            "[0, 0, 0, 0]\n",
            "3 {0: 0.0011127096909894741, 1: 0, 2: 0, 3: 0.6381625861920439}\n",
            "[2, 0, 0, 2]\n",
            "[0, 0, 0, 0]\n",
            "[2, 0, 1, 0]\n",
            "[0, 0, 0, 0]\n",
            "2 {0: 0.42708459830580187, 1: 0.17841867921367865, 2: 1.2097170059272737, 3: 0.15189941936243806}\n",
            "[2, 0, 0, 2]\n",
            "[0, 0, 0, 0]\n",
            "[2, 1, 0, 0]\n",
            "[0, 0, 0, 0]\n",
            "2 {0: 0.39773251601393117, 1: 0.6000097754418099, 2: 1.9689702727970197, 3: 0.46033845204659096}\n",
            "[2, 0, 0, 2]\n",
            "[0, 0, 0, 0]\n",
            "[1, 0, 0, 0]\n",
            "[0, 0, 0, 0]\n",
            "0 {0: 1.2135401185400732, 1: 0.7371357353209711, 2: 0, 3: 0.837677815850703}\n",
            "[2, 0, 0, 2]\n",
            "[1, 0, 0, 0]\n",
            "[0, 0, 0, 0]\n",
            "[0, 0, 0, 0]\n",
            "0 {0: 1.4818338832994427, 1: 0.9463488230759436, 2: 0, 3: 0.9968248652868408}\n",
            "[1, 0, 0, 2]\n",
            "[0, 0, 0, 0]\n",
            "[0, 0, 0, 0]\n",
            "[0, 0, 0, 0]\n",
            "3 {0: 0, 1: 0.39476147177584, 2: 0, 3: 0.6104583299856454}\n",
            "[0, 1, 0, 2]\n",
            "[0, 0, 0, 0]\n",
            "[0, 0, 0, 0]\n",
            "[0, 0, 0, 0]\n",
            "3 {0: 0, 1: 0.484429301354492, 2: 0.46373193505402294, 3: 0.8333660891015674}\n",
            "[0, 0, 1, 2]\n",
            "[0, 0, 0, 0]\n",
            "[0, 0, 0, 0]\n",
            "[0, 0, 0, 0]\n",
            "3 {0: 0, 1: 0.6340355307961563, 2: 0.5764921320005869, 3: 0.9999999999999994}\n",
            "[0, 0, 0, 1]\n",
            "[0, 0, 0, 0]\n",
            "[0, 0, 0, 0]\n",
            "[0, 0, 0, 0]\n",
            "1 {0: 0, 1: 0, 2: 0, 3: 0}\n"
          ]
        }
      ]
    },
    {
      "cell_type": "code",
      "source": [],
      "metadata": {
        "id": "XANv5f_PqZz2"
      },
      "execution_count": 7,
      "outputs": []
    }
  ]
}