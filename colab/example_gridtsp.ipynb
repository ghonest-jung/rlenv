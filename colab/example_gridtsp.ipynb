{
  "nbformat": 4,
  "nbformat_minor": 0,
  "metadata": {
    "colab": {
      "provenance": [],
      "authorship_tag": "ABX9TyP7vGze23gNvnMwPrxhwxZT"
    },
    "kernelspec": {
      "name": "python3",
      "display_name": "Python 3"
    },
    "language_info": {
      "name": "python"
    }
  },
  "cells": [
    {
      "cell_type": "code",
      "execution_count": 1,
      "metadata": {
        "colab": {
          "base_uri": "https://localhost:8080/"
        },
        "id": "shPVL7rsobv9",
        "outputId": "0e2fe53d-7bd8-4103-a37e-0686f1960c1e"
      },
      "outputs": [
        {
          "output_type": "stream",
          "name": "stdout",
          "text": [
            "Cloning into 'rlenv'...\n",
            "remote: Enumerating objects: 16, done.\u001b[K\n",
            "remote: Counting objects: 100% (16/16), done.\u001b[K\n",
            "remote: Compressing objects: 100% (9/9), done.\u001b[K\n",
            "remote: Total 16 (delta 3), reused 16 (delta 3), pack-reused 0\u001b[K\n",
            "Unpacking objects: 100% (16/16), done.\n"
          ]
        }
      ],
      "source": [
        "!git clone https://github.com/ghonest-jung/rlenv.git"
      ]
    },
    {
      "cell_type": "code",
      "source": [
        "import random\n",
        "import copy\n",
        "from tqdm import tqdm\n",
        "\n",
        "from gridtsp import GridTSP"
      ],
      "metadata": {
        "colab": {
          "base_uri": "https://localhost:8080/",
          "height": 358
        },
        "id": "d2SGDZHiofQz",
        "outputId": "f3ba49ab-400a-4f54-d98e-dc3a31fa7d16"
      },
      "execution_count": 8,
      "outputs": [
        {
          "output_type": "error",
          "ename": "ModuleNotFoundError",
          "evalue": "ignored",
          "traceback": [
            "\u001b[0;31m---------------------------------------------------------------------------\u001b[0m",
            "\u001b[0;31mModuleNotFoundError\u001b[0m                       Traceback (most recent call last)",
            "\u001b[0;32m<ipython-input-8-0585fad7f8e6>\u001b[0m in \u001b[0;36m<module>\u001b[0;34m\u001b[0m\n\u001b[1;32m      3\u001b[0m \u001b[0;32mfrom\u001b[0m \u001b[0mtqdm\u001b[0m \u001b[0;32mimport\u001b[0m \u001b[0mtqdm\u001b[0m\u001b[0;34m\u001b[0m\u001b[0;34m\u001b[0m\u001b[0m\n\u001b[1;32m      4\u001b[0m \u001b[0;34m\u001b[0m\u001b[0m\n\u001b[0;32m----> 5\u001b[0;31m \u001b[0;32mfrom\u001b[0m \u001b[0mgridtsp\u001b[0m \u001b[0;32mimport\u001b[0m \u001b[0mGridTSP\u001b[0m\u001b[0;34m\u001b[0m\u001b[0;34m\u001b[0m\u001b[0m\n\u001b[0m",
            "\u001b[0;31mModuleNotFoundError\u001b[0m: No module named 'gridtsp'",
            "",
            "\u001b[0;31m---------------------------------------------------------------------------\u001b[0;32m\nNOTE: If your import is failing due to a missing package, you can\nmanually install dependencies using either !pip or !apt.\n\nTo view examples of installing some common dependencies, click the\n\"Open Examples\" button below.\n\u001b[0;31m---------------------------------------------------------------------------\u001b[0m\n"
          ],
          "errorDetails": {
            "actions": [
              {
                "action": "open_url",
                "actionText": "Open Examples",
                "url": "/notebooks/snippets/importing_libraries.ipynb"
              }
            ]
          }
        }
      ]
    },
    {
      "cell_type": "code",
      "source": [
        "class QFunc:\n",
        "    def __init__(self):\n",
        "        self.q_func = dict()\n",
        "        self.actions = [GridTSP.UP, GridTSP.DOWN, GridTSP.LEFT, GridTSP.RIGHT]\n",
        "\n",
        "    def set(self, state, action, value):\n",
        "        key = str(state)\n",
        "        self.q_func[key][action] = value\n",
        "\n",
        "    def add(self, state):\n",
        "        key = str(state)\n",
        "\n",
        "        if key in self.q_func:\n",
        "            return\n",
        "\n",
        "        self.q_func[key] = dict()\n",
        "\n",
        "        for a in self.actions:\n",
        "            self.q_func[key][a] = 0\n",
        "\n",
        "    def get(self, state, action=None):\n",
        "        key = str(state)\n",
        "\n",
        "        if action is None:\n",
        "            return self.q_func[key]\n",
        "\n",
        "        return self.q_func[key][action]\n",
        "\n",
        "    def print(self):\n",
        "        for key in sorted(self.q_func.keys()):\n",
        "            print(key, (self.q_func[key]))"
      ],
      "metadata": {
        "id": "F_b29-dlpCCu"
      },
      "execution_count": 9,
      "outputs": []
    },
    {
      "cell_type": "code",
      "source": [
        "def print_board(board):\n",
        "    for b in board:\n",
        "        print(b)\n",
        "\n",
        "\n",
        "def get_avail_action(board, r, c):\n",
        "    actions = []\n",
        "    if r != 0:\n",
        "        actions.append(GridTSP.UP)\n",
        "    if r != len(board) - 1:\n",
        "        actions.append(GridTSP.DOWN)\n",
        "\n",
        "    if c != 0:\n",
        "        actions.append(GridTSP.LEFT)\n",
        "    if c != len(board[0]) - 1:\n",
        "        actions.append(GridTSP.RIGHT)\n",
        "\n",
        "    return actions\n",
        "\n",
        "\n",
        "def epsilon_greedy_action(epsilon, q_func, state, r, c):\n",
        "    key = str(state)\n",
        "\n",
        "    avail_actions = get_avail_action(state, r, c)\n",
        "\n",
        "    if random.random() < 1 - epsilon:\n",
        "        q_avail_actions = dict()\n",
        "        for a in avail_actions:\n",
        "            q_avail_actions[a] = q_func.get(key, a)\n",
        "        action_idx = max(q_avail_actions, key=q_avail_actions.get)\n",
        "    else:\n",
        "        action_idx = random.choice(avail_actions)\n",
        "    return action_idx"
      ],
      "metadata": {
        "id": "hSNIufjnpFot"
      },
      "execution_count": 10,
      "outputs": []
    },
    {
      "cell_type": "code",
      "source": [
        "q_func = QFunc()\n",
        "\n",
        "board_size = (3, 3)\n",
        "max_num_task = 3\n",
        "coord_all = []\n",
        "\n",
        "for r in range(board_size[0]):\n",
        "    for c in range(board_size[1]):\n",
        "        coord_all.append((r, c))\n",
        "\n",
        "for episode in tqdm(range(1000)):\n",
        "    num_task = random.randint(1, max_num_task)\n",
        "\n",
        "    coord_selected = random.sample(coord_all, k=num_task + 1)\n",
        "\n",
        "    start = coord_selected[0]\n",
        "    coord_tasks = coord_selected[1:]\n",
        "\n",
        "    env = GridTSP(board_size, start, coord_tasks, reward_default=-0.01)\n",
        "\n",
        "    state = copy.deepcopy(env.board)\n",
        "    q_func.add(state)\n",
        "    action = epsilon_greedy_action(0.5, q_func, state, env.r, env.c)\n",
        "\n",
        "    while True:\n",
        "        next_state, reward, done, info = env.step(action)\n",
        "        q_func.add(next_state)\n",
        "        next_action = epsilon_greedy_action(0.5, q_func, next_state, env.r, env.c)\n",
        "\n",
        "        if done is True:\n",
        "            value = reward\n",
        "        else:\n",
        "            value = (1 - 0.1) * q_func.get(state, action) + 0.1 * (reward + 0.9 * q_func.get(next_state, next_action))\n",
        "\n",
        "        q_func.set(state, action, value)\n",
        "\n",
        "        state = copy.deepcopy(next_state)\n",
        "        action = next_action\n",
        "\n",
        "        if done is True:\n",
        "            break\n",
        "\n",
        "q_func.print()"
      ],
      "metadata": {
        "id": "DqvTeAf0pHbo"
      },
      "execution_count": null,
      "outputs": []
    },
    {
      "cell_type": "code",
      "source": [
        "env = GridTSP(board_size, (2, 2), [(0, 1), (2, 0)], reward_default=0)\n",
        "\n",
        "state = copy.deepcopy(env.board)\n",
        "q_func.add(state)\n",
        "action = epsilon_greedy_action(0.0, q_func, state, env.r, env.c)\n",
        "print_board(state)\n",
        "print(action, q_func.get(state))\n",
        "\n",
        "while True:\n",
        "    next_state, reward, done, info = env.step(action)\n",
        "    q_func.add(next_state)\n",
        "    next_action = epsilon_greedy_action(0.0, q_func, next_state, env.r, env.c)\n",
        "    action = next_action\n",
        "\n",
        "    print_board(next_state)\n",
        "    print(next_action, q_func.get(next_state))\n",
        "\n",
        "    if done is True:\n",
        "        break\n"
      ],
      "metadata": {
        "colab": {
          "base_uri": "https://localhost:8080/"
        },
        "id": "Z3WJnYieps2M",
        "outputId": "5c293299-e3cb-4286-f0f9-92faa071365a"
      },
      "execution_count": 13,
      "outputs": [
        {
          "output_type": "stream",
          "name": "stdout",
          "text": [
            "[0, 2, 0]\n",
            "[0, 0, 0]\n",
            "[2, 0, 1]\n",
            "3 {1: -0.00109, 2: 0, 3: 0.011880500275421, 4: 0}\n",
            "[0, 2, 0]\n",
            "[0, 0, 0]\n",
            "[2, 1, 0]\n",
            "3 {1: -0.00199, 2: 0, 3: 0.3791057016754034, 4: -0.00109}\n",
            "[0, 2, 0]\n",
            "[0, 0, 0]\n",
            "[1, 0, 0]\n",
            "1 {1: 0.3912743265913458, 2: 0, 3: 0, 4: 0.0741353757395386}\n",
            "[0, 2, 0]\n",
            "[1, 0, 0]\n",
            "[0, 0, 0]\n",
            "1 {1: 0.5896766092531455, 2: 0.024661957058714785, 3: 0, 4: 0.34319569275096157}\n",
            "[1, 2, 0]\n",
            "[0, 0, 0]\n",
            "[0, 0, 0]\n",
            "4 {1: 0, 2: 0.14519364992594705, 3: 0, 4: 1}\n",
            "[0, 1, 0]\n",
            "[0, 0, 0]\n",
            "[0, 0, 0]\n",
            "2 {1: 0, 2: 0, 3: 0, 4: 0}\n"
          ]
        }
      ]
    },
    {
      "cell_type": "code",
      "source": [],
      "metadata": {
        "id": "XANv5f_PqZz2"
      },
      "execution_count": null,
      "outputs": []
    }
  ]
}